{
 "cells": [
  {
   "cell_type": "markdown",
   "metadata": {},
   "source": [
    "# 1. 什么是numpy"
   ]
  },
  {
   "cell_type": "markdown",
   "metadata": {},
   "source": [
    "numpy(http://numpy.org)是Numerical Python的简写,是python数值计算的基石。它是目前Python数值计算中最为重要的基础包。\n",
    "Numpy的重要功能：\n",
    "\n",
    " -ndarry，一种高效的多位数组，提供了基于数组的便捷算数操作以及灵活的广播功能（广播功能将会单独进行讲解）。\n",
    " -对所有数据进行快速的矩阵计算，而无需编写循环程序\n",
    " -对硬盘中的数组数据进行读写的工具，并对内存映射文件进行操作\n",
    " -线性代数、随机数生成以及傅立叶变换功能"
   ]
  },
  {
   "cell_type": "raw",
   "metadata": {},
   "source": [
    "对于一个100万的数据来说，使用numpy进行操作要比用python直接操作快10到100倍"
   ]
  },
  {
   "cell_type": "code",
   "execution_count": 3,
   "metadata": {},
   "outputs": [
    {
     "name": "stdout",
     "output_type": "stream",
     "text": [
      "CPU times: user 12.5 ms, sys: 9.99 ms, total: 22.5 ms\n",
      "Wall time: 23.6 ms\n"
     ]
    }
   ],
   "source": [
    "import numpy as np #这是约定俗成的导入numpy的方式，建议你也这样做\n",
    "list1 = np.arange(1000000)\n",
    "list2 = list(range(1000000))\n",
    "%time for _ in range(10):list3 = list1 * 2"
   ]
  },
  {
   "cell_type": "code",
   "execution_count": 4,
   "metadata": {},
   "outputs": [
    {
     "name": "stdout",
     "output_type": "stream",
     "text": [
      "CPU times: user 608 ms, sys: 207 ms, total: 816 ms\n",
      "Wall time: 838 ms\n"
     ]
    }
   ],
   "source": [
    "%time for _ in range(10):list4 = [x * 2 for x in list2]"
   ]
  },
  {
   "cell_type": "code",
   "execution_count": null,
   "metadata": {},
   "outputs": [],
   "source": [
    "这个例子可以看出明显的差距"
   ]
  },
  {
   "cell_type": "code",
   "execution_count": null,
   "metadata": {},
   "outputs": [],
   "source": []
  }
 ],
 "metadata": {
  "kernelspec": {
   "display_name": "Python 3",
   "language": "python",
   "name": "python3"
  },
  "language_info": {
   "codemirror_mode": {
    "name": "ipython",
    "version": 3
   },
   "file_extension": ".py",
   "mimetype": "text/x-python",
   "name": "python",
   "nbconvert_exporter": "python",
   "pygments_lexer": "ipython3",
   "version": "3.7.1"
  }
 },
 "nbformat": 4,
 "nbformat_minor": 2
}
