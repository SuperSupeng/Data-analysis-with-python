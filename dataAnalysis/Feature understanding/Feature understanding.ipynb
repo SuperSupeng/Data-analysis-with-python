{
 "cells": [
  {
   "cell_type": "markdown",
   "metadata": {},
   "source": [
    "# 1. 在旧金山做不同工作工资数据集"
   ]
  },
  {
   "cell_type": "code",
   "execution_count": 6,
   "metadata": {},
   "outputs": [],
   "source": [
    "import pandas as pd\n",
    "import numpy as np\n",
    "import matplotlib.pyplot as plt\n",
    "import seaborn as sns\n",
    "%matplotlib inline  \n",
    "plt.style.use('fivethirtyeight')\n",
    "#导入数据"
   ]
  },
  {
   "cell_type": "code",
   "execution_count": 7,
   "metadata": {},
   "outputs": [],
   "source": [
    "salary_ranges = pd.read_csv('~/开发/AI相关/特征工程/Feature-Engineering-Made-Easy-master/data/Salary_Ranges_by_Job_Classification.csv')"
   ]
  },
  {
   "cell_type": "code",
   "execution_count": 8,
   "metadata": {},
   "outputs": [
    {
     "data": {
      "text/html": [
       "<div>\n",
       "<style scoped>\n",
       "    .dataframe tbody tr th:only-of-type {\n",
       "        vertical-align: middle;\n",
       "    }\n",
       "\n",
       "    .dataframe tbody tr th {\n",
       "        vertical-align: top;\n",
       "    }\n",
       "\n",
       "    .dataframe thead th {\n",
       "        text-align: right;\n",
       "    }\n",
       "</style>\n",
       "<table border=\"1\" class=\"dataframe\">\n",
       "  <thead>\n",
       "    <tr style=\"text-align: right;\">\n",
       "      <th></th>\n",
       "      <th>SetID</th>\n",
       "      <th>Job Code</th>\n",
       "      <th>Eff Date</th>\n",
       "      <th>Sal End Date</th>\n",
       "      <th>Salary SetID</th>\n",
       "      <th>Sal Plan</th>\n",
       "      <th>Grade</th>\n",
       "      <th>Step</th>\n",
       "      <th>Biweekly High Rate</th>\n",
       "      <th>Biweekly Low Rate</th>\n",
       "      <th>Union Code</th>\n",
       "      <th>Extended Step</th>\n",
       "      <th>Pay Type</th>\n",
       "    </tr>\n",
       "  </thead>\n",
       "  <tbody>\n",
       "    <tr>\n",
       "      <th>0</th>\n",
       "      <td>COMMN</td>\n",
       "      <td>0109</td>\n",
       "      <td>07/01/2009 12:00:00 AM</td>\n",
       "      <td>06/30/2010 12:00:00 AM</td>\n",
       "      <td>COMMN</td>\n",
       "      <td>SFM</td>\n",
       "      <td>00000</td>\n",
       "      <td>1</td>\n",
       "      <td>$0.00</td>\n",
       "      <td>$0.00</td>\n",
       "      <td>330</td>\n",
       "      <td>0</td>\n",
       "      <td>C</td>\n",
       "    </tr>\n",
       "    <tr>\n",
       "      <th>1</th>\n",
       "      <td>COMMN</td>\n",
       "      <td>0110</td>\n",
       "      <td>07/01/2009 12:00:00 AM</td>\n",
       "      <td>06/30/2010 12:00:00 AM</td>\n",
       "      <td>COMMN</td>\n",
       "      <td>SFM</td>\n",
       "      <td>00000</td>\n",
       "      <td>1</td>\n",
       "      <td>$15.00</td>\n",
       "      <td>$15.00</td>\n",
       "      <td>323</td>\n",
       "      <td>0</td>\n",
       "      <td>D</td>\n",
       "    </tr>\n",
       "    <tr>\n",
       "      <th>2</th>\n",
       "      <td>COMMN</td>\n",
       "      <td>0111</td>\n",
       "      <td>07/01/2009 12:00:00 AM</td>\n",
       "      <td>06/30/2010 12:00:00 AM</td>\n",
       "      <td>COMMN</td>\n",
       "      <td>SFM</td>\n",
       "      <td>00000</td>\n",
       "      <td>1</td>\n",
       "      <td>$25.00</td>\n",
       "      <td>$25.00</td>\n",
       "      <td>323</td>\n",
       "      <td>0</td>\n",
       "      <td>D</td>\n",
       "    </tr>\n",
       "    <tr>\n",
       "      <th>3</th>\n",
       "      <td>COMMN</td>\n",
       "      <td>0112</td>\n",
       "      <td>07/01/2009 12:00:00 AM</td>\n",
       "      <td>06/30/2010 12:00:00 AM</td>\n",
       "      <td>COMMN</td>\n",
       "      <td>SFM</td>\n",
       "      <td>00000</td>\n",
       "      <td>1</td>\n",
       "      <td>$50.00</td>\n",
       "      <td>$50.00</td>\n",
       "      <td>323</td>\n",
       "      <td>0</td>\n",
       "      <td>D</td>\n",
       "    </tr>\n",
       "    <tr>\n",
       "      <th>4</th>\n",
       "      <td>COMMN</td>\n",
       "      <td>0114</td>\n",
       "      <td>07/01/2009 12:00:00 AM</td>\n",
       "      <td>06/30/2010 12:00:00 AM</td>\n",
       "      <td>COMMN</td>\n",
       "      <td>SFM</td>\n",
       "      <td>00000</td>\n",
       "      <td>1</td>\n",
       "      <td>$100.00</td>\n",
       "      <td>$100.00</td>\n",
       "      <td>323</td>\n",
       "      <td>0</td>\n",
       "      <td>M</td>\n",
       "    </tr>\n",
       "  </tbody>\n",
       "</table>\n",
       "</div>"
      ],
      "text/plain": [
       "   SetID Job Code                Eff Date            Sal End Date  \\\n",
       "0  COMMN     0109  07/01/2009 12:00:00 AM  06/30/2010 12:00:00 AM   \n",
       "1  COMMN     0110  07/01/2009 12:00:00 AM  06/30/2010 12:00:00 AM   \n",
       "2  COMMN     0111  07/01/2009 12:00:00 AM  06/30/2010 12:00:00 AM   \n",
       "3  COMMN     0112  07/01/2009 12:00:00 AM  06/30/2010 12:00:00 AM   \n",
       "4  COMMN     0114  07/01/2009 12:00:00 AM  06/30/2010 12:00:00 AM   \n",
       "\n",
       "  Salary SetID Sal Plan  Grade  Step Biweekly High Rate Biweekly Low Rate  \\\n",
       "0        COMMN      SFM  00000     1              $0.00             $0.00   \n",
       "1        COMMN      SFM  00000     1             $15.00            $15.00   \n",
       "2        COMMN      SFM  00000     1             $25.00            $25.00   \n",
       "3        COMMN      SFM  00000     1             $50.00            $50.00   \n",
       "4        COMMN      SFM  00000     1            $100.00           $100.00   \n",
       "\n",
       "   Union Code  Extended Step Pay Type  \n",
       "0         330              0        C  \n",
       "1         323              0        D  \n",
       "2         323              0        D  \n",
       "3         323              0        D  \n",
       "4         323              0        M  "
      ]
     },
     "execution_count": 8,
     "metadata": {},
     "output_type": "execute_result"
    }
   ],
   "source": [
    "#查看前几行数据\n",
    "salary_ranges.head()"
   ]
  },
  {
   "cell_type": "code",
   "execution_count": 9,
   "metadata": {},
   "outputs": [
    {
     "name": "stdout",
     "output_type": "stream",
     "text": [
      "<class 'pandas.core.frame.DataFrame'>\n",
      "RangeIndex: 1356 entries, 0 to 1355\n",
      "Data columns (total 13 columns):\n",
      "SetID                 1356 non-null object\n",
      "Job Code              1356 non-null object\n",
      "Eff Date              1356 non-null object\n",
      "Sal End Date          1356 non-null object\n",
      "Salary SetID          1356 non-null object\n",
      "Sal Plan              1356 non-null object\n",
      "Grade                 1356 non-null object\n",
      "Step                  1356 non-null int64\n",
      "Biweekly High Rate    1356 non-null object\n",
      "Biweekly Low Rate     1356 non-null object\n",
      "Union Code            1356 non-null int64\n",
      "Extended Step         1356 non-null int64\n",
      "Pay Type              1356 non-null object\n",
      "dtypes: int64(3), object(10)\n",
      "memory usage: 137.8+ KB\n"
     ]
    }
   ],
   "source": [
    "#查看数据有多少行，是否有缺失值，以及每列的数据类型\n",
    "salary_ranges.info() "
   ]
  },
  {
   "cell_type": "code",
   "execution_count": 10,
   "metadata": {},
   "outputs": [
    {
     "data": {
      "text/plain": [
       "SetID                 0\n",
       "Job Code              0\n",
       "Eff Date              0\n",
       "Sal End Date          0\n",
       "Salary SetID          0\n",
       "Sal Plan              0\n",
       "Grade                 0\n",
       "Step                  0\n",
       "Biweekly High Rate    0\n",
       "Biweekly Low Rate     0\n",
       "Union Code            0\n",
       "Extended Step         0\n",
       "Pay Type              0\n",
       "dtype: int64"
      ]
     },
     "execution_count": 10,
     "metadata": {},
     "output_type": "execute_result"
    }
   ],
   "source": [
    "#计算缺失值\n",
    "salary_ranges.isnull().sum()"
   ]
  },
  {
   "cell_type": "code",
   "execution_count": 11,
   "metadata": {},
   "outputs": [
    {
     "data": {
      "text/html": [
       "<div>\n",
       "<style scoped>\n",
       "    .dataframe tbody tr th:only-of-type {\n",
       "        vertical-align: middle;\n",
       "    }\n",
       "\n",
       "    .dataframe tbody tr th {\n",
       "        vertical-align: top;\n",
       "    }\n",
       "\n",
       "    .dataframe thead th {\n",
       "        text-align: right;\n",
       "    }\n",
       "</style>\n",
       "<table border=\"1\" class=\"dataframe\">\n",
       "  <thead>\n",
       "    <tr style=\"text-align: right;\">\n",
       "      <th></th>\n",
       "      <th>Step</th>\n",
       "      <th>Union Code</th>\n",
       "      <th>Extended Step</th>\n",
       "    </tr>\n",
       "  </thead>\n",
       "  <tbody>\n",
       "    <tr>\n",
       "      <th>count</th>\n",
       "      <td>1356.000000</td>\n",
       "      <td>1356.000000</td>\n",
       "      <td>1356.000000</td>\n",
       "    </tr>\n",
       "    <tr>\n",
       "      <th>mean</th>\n",
       "      <td>1.294985</td>\n",
       "      <td>392.676991</td>\n",
       "      <td>0.150442</td>\n",
       "    </tr>\n",
       "    <tr>\n",
       "      <th>std</th>\n",
       "      <td>1.045816</td>\n",
       "      <td>338.100562</td>\n",
       "      <td>1.006734</td>\n",
       "    </tr>\n",
       "    <tr>\n",
       "      <th>min</th>\n",
       "      <td>1.000000</td>\n",
       "      <td>1.000000</td>\n",
       "      <td>0.000000</td>\n",
       "    </tr>\n",
       "    <tr>\n",
       "      <th>25%</th>\n",
       "      <td>1.000000</td>\n",
       "      <td>21.000000</td>\n",
       "      <td>0.000000</td>\n",
       "    </tr>\n",
       "    <tr>\n",
       "      <th>50%</th>\n",
       "      <td>1.000000</td>\n",
       "      <td>351.000000</td>\n",
       "      <td>0.000000</td>\n",
       "    </tr>\n",
       "    <tr>\n",
       "      <th>75%</th>\n",
       "      <td>1.000000</td>\n",
       "      <td>790.000000</td>\n",
       "      <td>0.000000</td>\n",
       "    </tr>\n",
       "    <tr>\n",
       "      <th>max</th>\n",
       "      <td>5.000000</td>\n",
       "      <td>990.000000</td>\n",
       "      <td>11.000000</td>\n",
       "    </tr>\n",
       "  </tbody>\n",
       "</table>\n",
       "</div>"
      ],
      "text/plain": [
       "              Step   Union Code  Extended Step\n",
       "count  1356.000000  1356.000000    1356.000000\n",
       "mean      1.294985   392.676991       0.150442\n",
       "std       1.045816   338.100562       1.006734\n",
       "min       1.000000     1.000000       0.000000\n",
       "25%       1.000000    21.000000       0.000000\n",
       "50%       1.000000   351.000000       0.000000\n",
       "75%       1.000000   790.000000       0.000000\n",
       "max       5.000000   990.000000      11.000000"
      ]
     },
     "execution_count": 11,
     "metadata": {},
     "output_type": "execute_result"
    }
   ],
   "source": [
    "#查看一些定量数据的描述性统计，describe方法默认描述定量列，没有定量列，也会描述定性列\n",
    "salary_ranges.describe()"
   ]
  },
  {
   "cell_type": "markdown",
   "metadata": {},
   "source": [
    "pands认为，数据只有三个定量列:Step，Union Code和Extended Step。 但是很明显其中的Union Code就不是定量数据，只不过是部门的代码而已。在这个数据当中我们感兴趣的是一个定量列Biweekly High Rate和一个定性列Grade。"
   ]
  },
  {
   "cell_type": "code",
   "execution_count": 13,
   "metadata": {},
   "outputs": [
    {
     "data": {
      "text/html": [
       "<div>\n",
       "<style scoped>\n",
       "    .dataframe tbody tr th:only-of-type {\n",
       "        vertical-align: middle;\n",
       "    }\n",
       "\n",
       "    .dataframe tbody tr th {\n",
       "        vertical-align: top;\n",
       "    }\n",
       "\n",
       "    .dataframe thead th {\n",
       "        text-align: right;\n",
       "    }\n",
       "</style>\n",
       "<table border=\"1\" class=\"dataframe\">\n",
       "  <thead>\n",
       "    <tr style=\"text-align: right;\">\n",
       "      <th></th>\n",
       "      <th>Biweekly High Rate</th>\n",
       "      <th>Grade</th>\n",
       "    </tr>\n",
       "  </thead>\n",
       "  <tbody>\n",
       "    <tr>\n",
       "      <th>0</th>\n",
       "      <td>$0.00</td>\n",
       "      <td>00000</td>\n",
       "    </tr>\n",
       "    <tr>\n",
       "      <th>1</th>\n",
       "      <td>$15.00</td>\n",
       "      <td>00000</td>\n",
       "    </tr>\n",
       "    <tr>\n",
       "      <th>2</th>\n",
       "      <td>$25.00</td>\n",
       "      <td>00000</td>\n",
       "    </tr>\n",
       "    <tr>\n",
       "      <th>3</th>\n",
       "      <td>$50.00</td>\n",
       "      <td>00000</td>\n",
       "    </tr>\n",
       "    <tr>\n",
       "      <th>4</th>\n",
       "      <td>$100.00</td>\n",
       "      <td>00000</td>\n",
       "    </tr>\n",
       "  </tbody>\n",
       "</table>\n",
       "</div>"
      ],
      "text/plain": [
       "  Biweekly High Rate  Grade\n",
       "0              $0.00  00000\n",
       "1             $15.00  00000\n",
       "2             $25.00  00000\n",
       "3             $50.00  00000\n",
       "4            $100.00  00000"
      ]
     },
     "execution_count": 13,
     "metadata": {},
     "output_type": "execute_result"
    }
   ],
   "source": [
    "salary_ranges = salary_ranges[['Biweekly High Rate', 'Grade']]\n",
    "salary_ranges.head()"
   ]
  },
  {
   "cell_type": "code",
   "execution_count": 14,
   "metadata": {},
   "outputs": [
    {
     "name": "stderr",
     "output_type": "stream",
     "text": [
      "/Users/super/anaconda3/lib/python3.7/site-packages/ipykernel_launcher.py:4: SettingWithCopyWarning: \n",
      "A value is trying to be set on a copy of a slice from a DataFrame.\n",
      "Try using .loc[row_indexer,col_indexer] = value instead\n",
      "\n",
      "See the caveats in the documentation: http://pandas.pydata.org/pandas-docs/stable/indexing.html#indexing-view-versus-copy\n",
      "  after removing the cwd from sys.path.\n"
     ]
    },
    {
     "data": {
      "text/html": [
       "<div>\n",
       "<style scoped>\n",
       "    .dataframe tbody tr th:only-of-type {\n",
       "        vertical-align: middle;\n",
       "    }\n",
       "\n",
       "    .dataframe tbody tr th {\n",
       "        vertical-align: top;\n",
       "    }\n",
       "\n",
       "    .dataframe thead th {\n",
       "        text-align: right;\n",
       "    }\n",
       "</style>\n",
       "<table border=\"1\" class=\"dataframe\">\n",
       "  <thead>\n",
       "    <tr style=\"text-align: right;\">\n",
       "      <th></th>\n",
       "      <th>Biweekly High Rate</th>\n",
       "      <th>Grade</th>\n",
       "    </tr>\n",
       "  </thead>\n",
       "  <tbody>\n",
       "    <tr>\n",
       "      <th>0</th>\n",
       "      <td>0.00</td>\n",
       "      <td>00000</td>\n",
       "    </tr>\n",
       "    <tr>\n",
       "      <th>1</th>\n",
       "      <td>15.00</td>\n",
       "      <td>00000</td>\n",
       "    </tr>\n",
       "    <tr>\n",
       "      <th>2</th>\n",
       "      <td>25.00</td>\n",
       "      <td>00000</td>\n",
       "    </tr>\n",
       "    <tr>\n",
       "      <th>3</th>\n",
       "      <td>50.00</td>\n",
       "      <td>00000</td>\n",
       "    </tr>\n",
       "    <tr>\n",
       "      <th>4</th>\n",
       "      <td>100.00</td>\n",
       "      <td>00000</td>\n",
       "    </tr>\n",
       "  </tbody>\n",
       "</table>\n",
       "</div>"
      ],
      "text/plain": [
       "  Biweekly High Rate  Grade\n",
       "0               0.00  00000\n",
       "1              15.00  00000\n",
       "2              25.00  00000\n",
       "3              50.00  00000\n",
       "4             100.00  00000"
      ]
     },
     "execution_count": 14,
     "metadata": {},
     "output_type": "execute_result"
    }
   ],
   "source": [
    "#清理一下数据，移除工资前面的美元符号。\n",
    "#处理定量数据一般使用整数或浮点数作为数据类型\n",
    "#处理定性数据一般使用字符串或Unicode对象\n",
    "salary_ranges['Biweekly High Rate'] = salary_ranges['Biweekly High Rate'].map(lambda value: value.replace('$', ''))\n",
    "salary_ranges.head()"
   ]
  },
  {
   "cell_type": "code",
   "execution_count": 15,
   "metadata": {},
   "outputs": [
    {
     "name": "stdout",
     "output_type": "stream",
     "text": [
      "<class 'pandas.core.frame.DataFrame'>\n",
      "RangeIndex: 1356 entries, 0 to 1355\n",
      "Data columns (total 2 columns):\n",
      "Biweekly High Rate    1356 non-null float64\n",
      "Grade                 1356 non-null object\n",
      "dtypes: float64(1), object(1)\n",
      "memory usage: 21.3+ KB\n"
     ]
    },
    {
     "name": "stderr",
     "output_type": "stream",
     "text": [
      "/Users/super/anaconda3/lib/python3.7/site-packages/ipykernel_launcher.py:2: SettingWithCopyWarning: \n",
      "A value is trying to be set on a copy of a slice from a DataFrame.\n",
      "Try using .loc[row_indexer,col_indexer] = value instead\n",
      "\n",
      "See the caveats in the documentation: http://pandas.pydata.org/pandas-docs/stable/indexing.html#indexing-view-versus-copy\n",
      "  \n",
      "/Users/super/anaconda3/lib/python3.7/site-packages/ipykernel_launcher.py:4: SettingWithCopyWarning: \n",
      "A value is trying to be set on a copy of a slice from a DataFrame.\n",
      "Try using .loc[row_indexer,col_indexer] = value instead\n",
      "\n",
      "See the caveats in the documentation: http://pandas.pydata.org/pandas-docs/stable/indexing.html#indexing-view-versus-copy\n",
      "  after removing the cwd from sys.path.\n"
     ]
    }
   ],
   "source": [
    "#将Biweekly High Rate转换为浮点数\n",
    "salary_ranges['Biweekly High Rate'] = salary_ranges['Biweekly High Rate'].astype(float)\n",
    "#将Grade转换为字符串类型\n",
    "salary_ranges['Grade'] = salary_ranges['Grade'].astype(str)\n",
    "salary_ranges.info()"
   ]
  },
  {
   "cell_type": "markdown",
   "metadata": {},
   "source": [
    "现在我们有两列数据，BiWeekly High Rate代表双周最高工资，是定量列，代表某个部门的最高工资，Grade是工资所对应的部门"
   ]
  },
  {
   "cell_type": "code",
   "execution_count": 17,
   "metadata": {},
   "outputs": [
    {
     "data": {
      "text/plain": [
       "00000    61\n",
       "07450    12\n",
       "07170     9\n",
       "06870     9\n",
       "07420     9\n",
       "Name: Grade, dtype: int64"
      ]
     },
     "execution_count": 17,
     "metadata": {},
     "output_type": "execute_result"
    }
   ],
   "source": [
    "#对Grade进行分类统计\n",
    "salary_ranges['Grade'].value_counts().head()"
   ]
  },
  {
   "cell_type": "code",
   "execution_count": 18,
   "metadata": {},
   "outputs": [
    {
     "data": {
      "text/plain": [
       "<matplotlib.axes._subplots.AxesSubplot at 0x1a16baadd8>"
      ]
     },
     "execution_count": 18,
     "metadata": {},
     "output_type": "execute_result"
    },
    {
     "data": {
      "image/png": "[encoded data removed]",
      "text/plain": [
       "<Figure size 432x288 with 1 Axes>"
      ]
     },
     "metadata": {},
     "output_type": "display_data"
    }
   ],
   "source": [
    "#绘制条形图进行显示，定类等级数据\n",
    "salary_ranges['Grade'].value_counts().sort_values(ascending=False).head(20).plot(kind='bar')"
   ]
  },
  {
   "cell_type": "code",
   "execution_count": 19,
   "metadata": {},
   "outputs": [
    {
     "data": {
      "text/plain": [
       "<matplotlib.axes._subplots.AxesSubplot at 0x1a16c90a20>"
      ]
     },
     "execution_count": 19,
     "metadata": {},
     "output_type": "execute_result"
    },
    {
     "data": {
      "image/png": "[encoded data removed]",
      "text/plain": [
       "<Figure size 432x288 with 1 Axes>"
      ]
     },
     "metadata": {},
     "output_type": "display_data"
    }
   ],
   "source": [
    "#也可以用饼形图显示数据\n",
    "salary_ranges['Grade'].value_counts().sort_values(ascending=False).head(5).plot(kind='pie')"
   ]
  },
  {
   "cell_type": "markdown",
   "metadata": {},
   "source": [
    "# 2. 多少人喜欢旧金山国际机场数据集"
   ]
  },
  {
   "cell_type": "code",
   "execution_count": 23,
   "metadata": {},
   "outputs": [],
   "source": [
    "customer = pd.read_csv('~/开发/AI相关/特征工程/Feature-Engineering-Made-Easy-master/data/2013_SFO_Customer_survey.csv')"
   ]
  },
  {
   "cell_type": "code",
   "execution_count": 24,
   "metadata": {},
   "outputs": [
    {
     "data": {
      "text/plain": [
       "(3535, 95)"
      ]
     },
     "execution_count": 24,
     "metadata": {},
     "output_type": "execute_result"
    }
   ],
   "source": [
    "customer.shape"
   ]
  },
  {
   "cell_type": "code",
   "execution_count": 26,
   "metadata": {},
   "outputs": [
    {
     "name": "stdout",
     "output_type": "stream",
     "text": [
      "<class 'pandas.core.frame.DataFrame'>\n",
      "RangeIndex: 3535 entries, 0 to 3534\n",
      "Data columns (total 95 columns):\n",
      "RESPNUM            3535 non-null int64\n",
      "CCGID              3535 non-null object\n",
      "RUN                3535 non-null int64\n",
      "INTDATE            3535 non-null int64\n",
      "GATE               3535 non-null int64\n",
      "STRATA             3535 non-null int64\n",
      "PEAK               3535 non-null int64\n",
      "METHOD             3535 non-null int64\n",
      "AIRLINE            3535 non-null int64\n",
      "FLIGHT             3535 non-null int64\n",
      "DEST               3535 non-null int64\n",
      "DESTGEO            3535 non-null int64\n",
      "DESTMARK           3535 non-null int64\n",
      "ARRTIME            3535 non-null object\n",
      "DEPTIME            3535 non-null object\n",
      "Q2PURP1            3535 non-null int64\n",
      "Q2PURP2            3459 non-null float64\n",
      "Q2PURP3            163 non-null float64\n",
      "Q2PURP4            17 non-null float64\n",
      "Q2PURP5            2 non-null float64\n",
      "Q2PURP6            0 non-null float64\n",
      "Q3GETTO1           3535 non-null int64\n",
      "Q3GETTO2           3505 non-null float64\n",
      "Q3GETTO3           17 non-null float64\n",
      "Q3GETTO4           1 non-null float64\n",
      "Q3GETTO5           0 non-null float64\n",
      "Q3GETTO6           0 non-null float64\n",
      "Q3PARK             284 non-null float64\n",
      "Q4BAGS             3535 non-null int64\n",
      "Q4BUY              3535 non-null int64\n",
      "Q4FOOD             3535 non-null int64\n",
      "Q4WIFI             3535 non-null int64\n",
      "Q5FLYPERYR         3535 non-null int64\n",
      "Q6TENURE           3535 non-null float64\n",
      "SAQ                3535 non-null int64\n",
      "Q7A_ART            3535 non-null int64\n",
      "Q7B_FOOD           3535 non-null int64\n",
      "Q7C_SHOPS          3535 non-null int64\n",
      "Q7D_SIGNS          3535 non-null int64\n",
      "Q7E_WALK           3535 non-null int64\n",
      "Q7F_SCREENS        3535 non-null int64\n",
      "Q7G_INFOARR        3535 non-null int64\n",
      "Q7H_INFODEP        3535 non-null int64\n",
      "Q7I_WIFI           3535 non-null int64\n",
      "Q7J_ROAD           3535 non-null int64\n",
      "Q7K_PARK           3535 non-null int64\n",
      "Q7L_AIRTRAIN       3535 non-null int64\n",
      "Q7M_LTPARK         3535 non-null int64\n",
      "Q7N_RENTAL         3535 non-null int64\n",
      "Q7O_WHOLE          3535 non-null int64\n",
      "Q8COM1             1495 non-null float64\n",
      "Q8COM2             308 non-null float64\n",
      "Q8COM3             59 non-null float64\n",
      "Q9A_CLNBOARD       3535 non-null int64\n",
      "Q9B_CLNAIRTRAIN    3535 non-null int64\n",
      "Q9C_CLNRENT        3535 non-null int64\n",
      "Q9D_CLNFOOD        3535 non-null int64\n",
      "Q9E_CLNBATH        3535 non-null int64\n",
      "Q9F_CLNWHOLE       3535 non-null int64\n",
      "Q9COM1             180 non-null float64\n",
      "Q9COM2             4 non-null float64\n",
      "Q9COM3             4 non-null float64\n",
      "Q10SAFE            3535 non-null int64\n",
      "Q10COM1            1683 non-null float64\n",
      "Q10COM2            221 non-null float64\n",
      "Q10COM3            14 non-null float64\n",
      "Q11A_USEWEB        3535 non-null int64\n",
      "Q11B_USESFOAPP     3535 non-null int64\n",
      "Q11C_USEOTHAPP     3535 non-null int64\n",
      "Q11D_USESOCMED     3535 non-null int64\n",
      "Q11E_USEWIFI       3535 non-null int64\n",
      "Q12COM1            706 non-null float64\n",
      "Q12COM2            75 non-null float64\n",
      "Q12COM3            2 non-null float64\n",
      "Q13_WHEREDEPART    3535 non-null int64\n",
      "Q13_RATEGETTO      3535 non-null int64\n",
      "Q14A_FIND          3535 non-null int64\n",
      "Q14B_SECURITY      3535 non-null int64\n",
      "Q15_PROBLEMS       3535 non-null int64\n",
      "Q15COM1            389 non-null float64\n",
      "Q15COM2            21 non-null float64\n",
      "Q15COM3            1 non-null float64\n",
      "Q16_REGION         3535 non-null int64\n",
      "Q17_CITY           3234 non-null object\n",
      "Q17_ZIP            2276 non-null float64\n",
      "Q17_COUNTRY        3410 non-null object\n",
      "HOME               3535 non-null int64\n",
      "Q18_AGE            3535 non-null int64\n",
      "Q19_SEX            3535 non-null int64\n",
      "Q20_INCOME         3535 non-null int64\n",
      "Q21_HIFLYER        3535 non-null int64\n",
      "Q22A_USESJC        3535 non-null int64\n",
      "Q22B_USEOAK        3535 non-null int64\n",
      "LANG               3535 non-null int64\n",
      "WEIGHT             3535 non-null float64\n",
      "dtypes: float64(29), int64(61), object(5)\n",
      "memory usage: 2.6+ MB\n"
     ]
    }
   ],
   "source": [
    "customer.info()"
   ]
  },
  {
   "cell_type": "markdown",
   "metadata": {},
   "source": [
    "可以看到这个数据集中包含很多数据，在这里我们只关心`Q7A_ART`这列数据，这列数据是关于艺术品和展览的，有几个值\n",
    "\n",
    "- 1: 不可接受\n",
    "- 2: 低于平均\n",
    "- 3: 平均\n",
    "- 4: 不错\n",
    "- 5: 特别好\n",
    "- 6: 从未有人使用或参观过\n",
    "- 0: 空"
   ]
  },
  {
   "cell_type": "code",
   "execution_count": 33,
   "metadata": {},
   "outputs": [
    {
     "data": {
      "text/plain": [
       "RESPNUM               0\n",
       "CCGID                 0\n",
       "RUN                   0\n",
       "INTDATE               0\n",
       "GATE                  0\n",
       "STRATA                0\n",
       "PEAK                  0\n",
       "METHOD                0\n",
       "AIRLINE               0\n",
       "FLIGHT                0\n",
       "DEST                  0\n",
       "DESTGEO               0\n",
       "DESTMARK              0\n",
       "ARRTIME               0\n",
       "DEPTIME               0\n",
       "Q2PURP1               0\n",
       "Q2PURP2              76\n",
       "Q2PURP3            3372\n",
       "Q2PURP4            3518\n",
       "Q2PURP5            3533\n",
       "Q2PURP6            3535\n",
       "Q3GETTO1              0\n",
       "Q3GETTO2             30\n",
       "Q3GETTO3           3518\n",
       "Q3GETTO4           3534\n",
       "Q3GETTO5           3535\n",
       "Q3GETTO6           3535\n",
       "Q3PARK             3251\n",
       "Q4BAGS                0\n",
       "Q4BUY                 0\n",
       "                   ... \n",
       "Q10COM3            3521\n",
       "Q11A_USEWEB           0\n",
       "Q11B_USESFOAPP        0\n",
       "Q11C_USEOTHAPP        0\n",
       "Q11D_USESOCMED        0\n",
       "Q11E_USEWIFI          0\n",
       "Q12COM1            2829\n",
       "Q12COM2            3460\n",
       "Q12COM3            3533\n",
       "Q13_WHEREDEPART       0\n",
       "Q13_RATEGETTO         0\n",
       "Q14A_FIND             0\n",
       "Q14B_SECURITY         0\n",
       "Q15_PROBLEMS          0\n",
       "Q15COM1            3146\n",
       "Q15COM2            3514\n",
       "Q15COM3            3534\n",
       "Q16_REGION            0\n",
       "Q17_CITY            301\n",
       "Q17_ZIP            1259\n",
       "Q17_COUNTRY         125\n",
       "HOME                  0\n",
       "Q18_AGE               0\n",
       "Q19_SEX               0\n",
       "Q20_INCOME            0\n",
       "Q21_HIFLYER           0\n",
       "Q22A_USESJC           0\n",
       "Q22B_USEOAK           0\n",
       "LANG                  0\n",
       "WEIGHT                0\n",
       "Length: 95, dtype: int64"
      ]
     },
     "execution_count": 33,
     "metadata": {},
     "output_type": "execute_result"
    }
   ],
   "source": [
    "customre.isnull().sum()"
   ]
  },
  {
   "cell_type": "code",
   "execution_count": 29,
   "metadata": {},
   "outputs": [
    {
     "data": {
      "text/plain": [
       "count     2656\n",
       "unique       5\n",
       "top          4\n",
       "freq      1066\n",
       "Name: Q7A_ART, dtype: object"
      ]
     },
     "execution_count": 29,
     "metadata": {},
     "output_type": "execute_result"
    }
   ],
   "source": [
    "art_ratings = customer['Q7A_ART']\n",
    "#这列数据是一个定型数据，没个数字代表不同类型\n",
    "#如果我们把其中0和6去掉，更类似于一个评分的排序\n",
    "art_ratings = art_ratings[(art_ratings>=1) & (art_ratings<=5)]\n",
    "#将数值转换为字符串\n",
    "art_ratings = art_ratings.astype(str)\n",
    "art_ratings.describe()"
   ]
  },
  {
   "cell_type": "code",
   "execution_count": 30,
   "metadata": {},
   "outputs": [
    {
     "data": {
      "text/plain": [
       "<matplotlib.axes._subplots.AxesSubplot at 0x1a1604c208>"
      ]
     },
     "execution_count": 30,
     "metadata": {},
     "output_type": "execute_result"
    },
    {
     "data": {
      "image/png": "[encoded data removed]",
      "text/plain": [
       "<Figure size 432x288 with 1 Axes>"
      ]
     },
     "metadata": {},
     "output_type": "display_data"
    }
   ],
   "source": [
    "#用饼形图来显示一下数据，定序数据\n",
    "art_ratings.value_counts().plot(kind='pie')"
   ]
  },
  {
   "cell_type": "code",
   "execution_count": 31,
   "metadata": {},
   "outputs": [
    {
     "data": {
      "text/plain": [
       "<matplotlib.axes._subplots.AxesSubplot at 0x1a160964a8>"
      ]
     },
     "execution_count": 31,
     "metadata": {},
     "output_type": "execute_result"
    },
    {
     "data": {
      "image/png": "[encoded data removed]",
      "text/plain": [
       "<Figure size 432x288 with 1 Axes>"
      ]
     },
     "metadata": {},
     "output_type": "display_data"
    }
   ],
   "source": [
    "#用条形图显示数据\n",
    "art_ratings.value_counts().plot(kind='bar')"
   ]
  },
  {
   "cell_type": "code",
   "execution_count": 32,
   "metadata": {},
   "outputs": [
    {
     "data": {
      "text/plain": [
       "<matplotlib.axes._subplots.AxesSubplot at 0x1a162b9828>"
      ]
     },
     "execution_count": 32,
     "metadata": {},
     "output_type": "execute_result"
    },
    {
     "data": {
      "image/png": "[encoded data removed]",
      "text/plain": [
       "<Figure size 432x288 with 1 Axes>"
      ]
     },
     "metadata": {},
     "output_type": "display_data"
    }
   ],
   "source": [
    "#还可以用箱型图可视化数据\n",
    "art_ratings.value_counts().plot(kind='box')"
   ]
  },
  {
   "cell_type": "markdown",
   "metadata": {},
   "source": [
    "# 3. 气候变化数据集"
   ]
  },
  {
   "cell_type": "code",
   "execution_count": 38,
   "metadata": {},
   "outputs": [],
   "source": [
    "climate = pd.read_csv('~/开发/AI相关/特征工程/Feature-Engineering-Made-Easy-master/data/GlobalLandTemperaturesByCity.csv')"
   ]
  },
  {
   "cell_type": "code",
   "execution_count": 39,
   "metadata": {},
   "outputs": [
    {
     "data": {
      "text/html": [
       "<div>\n",
       "<style scoped>\n",
       "    .dataframe tbody tr th:only-of-type {\n",
       "        vertical-align: middle;\n",
       "    }\n",
       "\n",
       "    .dataframe tbody tr th {\n",
       "        vertical-align: top;\n",
       "    }\n",
       "\n",
       "    .dataframe thead th {\n",
       "        text-align: right;\n",
       "    }\n",
       "</style>\n",
       "<table border=\"1\" class=\"dataframe\">\n",
       "  <thead>\n",
       "    <tr style=\"text-align: right;\">\n",
       "      <th></th>\n",
       "      <th>dt</th>\n",
       "      <th>AverageTemperature</th>\n",
       "      <th>AverageTemperatureUncertainty</th>\n",
       "      <th>City</th>\n",
       "      <th>Country</th>\n",
       "      <th>Latitude</th>\n",
       "      <th>Longitude</th>\n",
       "    </tr>\n",
       "  </thead>\n",
       "  <tbody>\n",
       "    <tr>\n",
       "      <th>0</th>\n",
       "      <td>1743-11-01</td>\n",
       "      <td>6.068</td>\n",
       "      <td>1.737</td>\n",
       "      <td>Århus</td>\n",
       "      <td>Denmark</td>\n",
       "      <td>57.05N</td>\n",
       "      <td>10.33E</td>\n",
       "    </tr>\n",
       "    <tr>\n",
       "      <th>1</th>\n",
       "      <td>1743-12-01</td>\n",
       "      <td>NaN</td>\n",
       "      <td>NaN</td>\n",
       "      <td>Århus</td>\n",
       "      <td>Denmark</td>\n",
       "      <td>57.05N</td>\n",
       "      <td>10.33E</td>\n",
       "    </tr>\n",
       "    <tr>\n",
       "      <th>2</th>\n",
       "      <td>1744-01-01</td>\n",
       "      <td>NaN</td>\n",
       "      <td>NaN</td>\n",
       "      <td>Århus</td>\n",
       "      <td>Denmark</td>\n",
       "      <td>57.05N</td>\n",
       "      <td>10.33E</td>\n",
       "    </tr>\n",
       "    <tr>\n",
       "      <th>3</th>\n",
       "      <td>1744-02-01</td>\n",
       "      <td>NaN</td>\n",
       "      <td>NaN</td>\n",
       "      <td>Århus</td>\n",
       "      <td>Denmark</td>\n",
       "      <td>57.05N</td>\n",
       "      <td>10.33E</td>\n",
       "    </tr>\n",
       "    <tr>\n",
       "      <th>4</th>\n",
       "      <td>1744-03-01</td>\n",
       "      <td>NaN</td>\n",
       "      <td>NaN</td>\n",
       "      <td>Århus</td>\n",
       "      <td>Denmark</td>\n",
       "      <td>57.05N</td>\n",
       "      <td>10.33E</td>\n",
       "    </tr>\n",
       "  </tbody>\n",
       "</table>\n",
       "</div>"
      ],
      "text/plain": [
       "           dt  AverageTemperature  AverageTemperatureUncertainty   City  \\\n",
       "0  1743-11-01               6.068                          1.737  Århus   \n",
       "1  1743-12-01                 NaN                            NaN  Århus   \n",
       "2  1744-01-01                 NaN                            NaN  Århus   \n",
       "3  1744-02-01                 NaN                            NaN  Århus   \n",
       "4  1744-03-01                 NaN                            NaN  Århus   \n",
       "\n",
       "   Country Latitude Longitude  \n",
       "0  Denmark   57.05N    10.33E  \n",
       "1  Denmark   57.05N    10.33E  \n",
       "2  Denmark   57.05N    10.33E  \n",
       "3  Denmark   57.05N    10.33E  \n",
       "4  Denmark   57.05N    10.33E  "
      ]
     },
     "execution_count": 39,
     "metadata": {},
     "output_type": "execute_result"
    }
   ],
   "source": [
    "climate.head()"
   ]
  },
  {
   "cell_type": "code",
   "execution_count": 40,
   "metadata": {},
   "outputs": [
    {
     "name": "stdout",
     "output_type": "stream",
     "text": [
      "<class 'pandas.core.frame.DataFrame'>\n",
      "RangeIndex: 8599212 entries, 0 to 8599211\n",
      "Data columns (total 7 columns):\n",
      "dt                               object\n",
      "AverageTemperature               float64\n",
      "AverageTemperatureUncertainty    float64\n",
      "City                             object\n",
      "Country                          object\n",
      "Latitude                         object\n",
      "Longitude                        object\n",
      "dtypes: float64(2), object(5)\n",
      "memory usage: 459.2+ MB\n"
     ]
    }
   ],
   "source": [
    "climate.info()"
   ]
  },
  {
   "cell_type": "code",
   "execution_count": 41,
   "metadata": {},
   "outputs": [
    {
     "data": {
      "text/plain": [
       "dt                                    0\n",
       "AverageTemperature               364130\n",
       "AverageTemperatureUncertainty    364130\n",
       "City                                  0\n",
       "Country                               0\n",
       "Latitude                              0\n",
       "Longitude                             0\n",
       "dtype: int64"
      ]
     },
     "execution_count": 41,
     "metadata": {},
     "output_type": "execute_result"
    }
   ],
   "source": [
    "climate.isnull().sum()"
   ]
  },
  {
   "cell_type": "code",
   "execution_count": 42,
   "metadata": {},
   "outputs": [
    {
     "data": {
      "text/html": [
       "<div>\n",
       "<style scoped>\n",
       "    .dataframe tbody tr th:only-of-type {\n",
       "        vertical-align: middle;\n",
       "    }\n",
       "\n",
       "    .dataframe tbody tr th {\n",
       "        vertical-align: top;\n",
       "    }\n",
       "\n",
       "    .dataframe thead th {\n",
       "        text-align: right;\n",
       "    }\n",
       "</style>\n",
       "<table border=\"1\" class=\"dataframe\">\n",
       "  <thead>\n",
       "    <tr style=\"text-align: right;\">\n",
       "      <th></th>\n",
       "      <th>dt</th>\n",
       "      <th>AverageTemperature</th>\n",
       "      <th>AverageTemperatureUncertainty</th>\n",
       "      <th>City</th>\n",
       "      <th>Country</th>\n",
       "      <th>Latitude</th>\n",
       "      <th>Longitude</th>\n",
       "    </tr>\n",
       "  </thead>\n",
       "  <tbody>\n",
       "    <tr>\n",
       "      <th>0</th>\n",
       "      <td>1743-11-01</td>\n",
       "      <td>6.068</td>\n",
       "      <td>1.737</td>\n",
       "      <td>Århus</td>\n",
       "      <td>Denmark</td>\n",
       "      <td>57.05N</td>\n",
       "      <td>10.33E</td>\n",
       "    </tr>\n",
       "    <tr>\n",
       "      <th>5</th>\n",
       "      <td>1744-04-01</td>\n",
       "      <td>5.788</td>\n",
       "      <td>3.624</td>\n",
       "      <td>Århus</td>\n",
       "      <td>Denmark</td>\n",
       "      <td>57.05N</td>\n",
       "      <td>10.33E</td>\n",
       "    </tr>\n",
       "    <tr>\n",
       "      <th>6</th>\n",
       "      <td>1744-05-01</td>\n",
       "      <td>10.644</td>\n",
       "      <td>1.283</td>\n",
       "      <td>Århus</td>\n",
       "      <td>Denmark</td>\n",
       "      <td>57.05N</td>\n",
       "      <td>10.33E</td>\n",
       "    </tr>\n",
       "    <tr>\n",
       "      <th>7</th>\n",
       "      <td>1744-06-01</td>\n",
       "      <td>14.051</td>\n",
       "      <td>1.347</td>\n",
       "      <td>Århus</td>\n",
       "      <td>Denmark</td>\n",
       "      <td>57.05N</td>\n",
       "      <td>10.33E</td>\n",
       "    </tr>\n",
       "    <tr>\n",
       "      <th>8</th>\n",
       "      <td>1744-07-01</td>\n",
       "      <td>16.082</td>\n",
       "      <td>1.396</td>\n",
       "      <td>Århus</td>\n",
       "      <td>Denmark</td>\n",
       "      <td>57.05N</td>\n",
       "      <td>10.33E</td>\n",
       "    </tr>\n",
       "  </tbody>\n",
       "</table>\n",
       "</div>"
      ],
      "text/plain": [
       "           dt  AverageTemperature  AverageTemperatureUncertainty   City  \\\n",
       "0  1743-11-01               6.068                          1.737  Århus   \n",
       "5  1744-04-01               5.788                          3.624  Århus   \n",
       "6  1744-05-01              10.644                          1.283  Århus   \n",
       "7  1744-06-01              14.051                          1.347  Århus   \n",
       "8  1744-07-01              16.082                          1.396  Århus   \n",
       "\n",
       "   Country Latitude Longitude  \n",
       "0  Denmark   57.05N    10.33E  \n",
       "5  Denmark   57.05N    10.33E  \n",
       "6  Denmark   57.05N    10.33E  \n",
       "7  Denmark   57.05N    10.33E  \n",
       "8  Denmark   57.05N    10.33E  "
      ]
     },
     "execution_count": 42,
     "metadata": {},
     "output_type": "execute_result"
    }
   ],
   "source": [
    "#去掉缺失值\n",
    "climate.dropna(axis=0, inplace=True)\n",
    "climate.head()"
   ]
  },
  {
   "cell_type": "code",
   "execution_count": 43,
   "metadata": {},
   "outputs": [
    {
     "data": {
      "text/html": [
       "<div>\n",
       "<style scoped>\n",
       "    .dataframe tbody tr th:only-of-type {\n",
       "        vertical-align: middle;\n",
       "    }\n",
       "\n",
       "    .dataframe tbody tr th {\n",
       "        vertical-align: top;\n",
       "    }\n",
       "\n",
       "    .dataframe thead th {\n",
       "        text-align: right;\n",
       "    }\n",
       "</style>\n",
       "<table border=\"1\" class=\"dataframe\">\n",
       "  <thead>\n",
       "    <tr style=\"text-align: right;\">\n",
       "      <th></th>\n",
       "      <th>AverageTemperature</th>\n",
       "      <th>AverageTemperatureUncertainty</th>\n",
       "    </tr>\n",
       "  </thead>\n",
       "  <tbody>\n",
       "    <tr>\n",
       "      <th>count</th>\n",
       "      <td>8.235082e+06</td>\n",
       "      <td>8.235082e+06</td>\n",
       "    </tr>\n",
       "    <tr>\n",
       "      <th>mean</th>\n",
       "      <td>1.672743e+01</td>\n",
       "      <td>1.028575e+00</td>\n",
       "    </tr>\n",
       "    <tr>\n",
       "      <th>std</th>\n",
       "      <td>1.035344e+01</td>\n",
       "      <td>1.129733e+00</td>\n",
       "    </tr>\n",
       "    <tr>\n",
       "      <th>min</th>\n",
       "      <td>-4.270400e+01</td>\n",
       "      <td>3.400000e-02</td>\n",
       "    </tr>\n",
       "    <tr>\n",
       "      <th>25%</th>\n",
       "      <td>1.029900e+01</td>\n",
       "      <td>3.370000e-01</td>\n",
       "    </tr>\n",
       "    <tr>\n",
       "      <th>50%</th>\n",
       "      <td>1.883100e+01</td>\n",
       "      <td>5.910000e-01</td>\n",
       "    </tr>\n",
       "    <tr>\n",
       "      <th>75%</th>\n",
       "      <td>2.521000e+01</td>\n",
       "      <td>1.349000e+00</td>\n",
       "    </tr>\n",
       "    <tr>\n",
       "      <th>max</th>\n",
       "      <td>3.965100e+01</td>\n",
       "      <td>1.539600e+01</td>\n",
       "    </tr>\n",
       "  </tbody>\n",
       "</table>\n",
       "</div>"
      ],
      "text/plain": [
       "       AverageTemperature  AverageTemperatureUncertainty\n",
       "count        8.235082e+06                   8.235082e+06\n",
       "mean         1.672743e+01                   1.028575e+00\n",
       "std          1.035344e+01                   1.129733e+00\n",
       "min         -4.270400e+01                   3.400000e-02\n",
       "25%          1.029900e+01                   3.370000e-01\n",
       "50%          1.883100e+01                   5.910000e-01\n",
       "75%          2.521000e+01                   1.349000e+00\n",
       "max          3.965100e+01                   1.539600e+01"
      ]
     },
     "execution_count": 43,
     "metadata": {},
     "output_type": "execute_result"
    }
   ],
   "source": [
    "climate.describe()"
   ]
  },
  {
   "cell_type": "markdown",
   "metadata": {},
   "source": [
    "我们关注的是AverageTemperature列。温度数据属于定量数据属于定距数据，我们没法显示所有温度值，因为数据量过大"
   ]
  },
  {
   "cell_type": "code",
   "execution_count": 44,
   "metadata": {},
   "outputs": [
    {
     "data": {
      "text/plain": [
       "111994"
      ]
     },
     "execution_count": 44,
     "metadata": {},
     "output_type": "execute_result"
    }
   ],
   "source": [
    "#显示AverageTemperature中独特数值的数量\n",
    "climate['AverageTemperature'].nunique()"
   ]
  },
  {
   "cell_type": "code",
   "execution_count": 45,
   "metadata": {},
   "outputs": [
    {
     "data": {
      "text/plain": [
       "<matplotlib.axes._subplots.AxesSubplot at 0x1a20f822b0>"
      ]
     },
     "execution_count": 45,
     "metadata": {},
     "output_type": "execute_result"
    },
    {
     "data": {
      "image/png": "[encoded data removed]",
      "text/plain": [
       "<Figure size 432x288 with 1 Axes>"
      ]
     },
     "metadata": {},
     "output_type": "display_data"
    }
   ],
   "source": [
    "#用直方图显示数据\n",
    "climate['AverageTemperature'].hist()"
   ]
  },
  {
   "cell_type": "code",
   "execution_count": null,
   "metadata": {},
   "outputs": [],
   "source": [
    "#将dt列数据转换为日期，并取年份\n",
    "climate['dt'] = pd.to_datetime(climate['dt'])\n",
    "climate['year'] = climate['dt'].map(lambda value: value.year)"
   ]
  },
  {
   "cell_type": "code",
   "execution_count": null,
   "metadata": {},
   "outputs": [],
   "source": [
    "#只看美国的数据\n",
    "climate_sub_us = climate.loc[climate['Country'] == 'United States']\n",
    "#并将年份转换为世纪\n",
    "climate_sub_us['century'] = climate_sub_us['year'].map(lambda x: int(x/100+1))"
   ]
  },
  {
   "cell_type": "code",
   "execution_count": 48,
   "metadata": {},
   "outputs": [
    {
     "data": {
      "text/plain": [
       "array([[<matplotlib.axes._subplots.AxesSubplot object at 0x1a161357b8>,\n",
       "        <matplotlib.axes._subplots.AxesSubplot object at 0x1a1601d048>,\n",
       "        <matplotlib.axes._subplots.AxesSubplot object at 0x1a1c62a6d8>,\n",
       "        <matplotlib.axes._subplots.AxesSubplot object at 0x1a1c5ddd68>,\n",
       "        <matplotlib.axes._subplots.AxesSubplot object at 0x1a1c617438>,\n",
       "        <matplotlib.axes._subplots.AxesSubplot object at 0x1a1c5c8ac8>,\n",
       "        <matplotlib.axes._subplots.AxesSubplot object at 0x1a1c586198>,\n",
       "        <matplotlib.axes._subplots.AxesSubplot object at 0x1a1c533860>,\n",
       "        <matplotlib.axes._subplots.AxesSubplot object at 0x1a1c533898>,\n",
       "        <matplotlib.axes._subplots.AxesSubplot object at 0x1a1c49f588>,\n",
       "        <matplotlib.axes._subplots.AxesSubplot object at 0x1a1c4d1c18>,\n",
       "        <matplotlib.axes._subplots.AxesSubplot object at 0x1a1c48c2e8>,\n",
       "        <matplotlib.axes._subplots.AxesSubplot object at 0x1a1c43d978>,\n",
       "        <matplotlib.axes._subplots.AxesSubplot object at 0x1a1c3fb048>,\n",
       "        <matplotlib.axes._subplots.AxesSubplot object at 0x1a1c3a96d8>,\n",
       "        <matplotlib.axes._subplots.AxesSubplot object at 0x1a1c3dbd68>],\n",
       "       [<matplotlib.axes._subplots.AxesSubplot object at 0x1a15cec438>,\n",
       "        <matplotlib.axes._subplots.AxesSubplot object at 0x1a15e40ac8>,\n",
       "        <matplotlib.axes._subplots.AxesSubplot object at 0x1a15e7c198>,\n",
       "        <matplotlib.axes._subplots.AxesSubplot object at 0x1a15ead828>,\n",
       "        <matplotlib.axes._subplots.AxesSubplot object at 0x1a15eddeb8>,\n",
       "        <matplotlib.axes._subplots.AxesSubplot object at 0x1a163b6588>,\n",
       "        <matplotlib.axes._subplots.AxesSubplot object at 0x1a163e6c18>,\n",
       "        <matplotlib.axes._subplots.AxesSubplot object at 0x1a164232e8>,\n",
       "        <matplotlib.axes._subplots.AxesSubplot object at 0x1a16453978>,\n",
       "        <matplotlib.axes._subplots.AxesSubplot object at 0x1a176ba048>,\n",
       "        <matplotlib.axes._subplots.AxesSubplot object at 0x1a176e96d8>,\n",
       "        <matplotlib.axes._subplots.AxesSubplot object at 0x1a1771ad68>,\n",
       "        <matplotlib.axes._subplots.AxesSubplot object at 0x1a17e4c438>,\n",
       "        <matplotlib.axes._subplots.AxesSubplot object at 0x1a18028ac8>,\n",
       "        <matplotlib.axes._subplots.AxesSubplot object at 0x1a18066198>,\n",
       "        <matplotlib.axes._subplots.AxesSubplot object at 0x1a18095828>],\n",
       "       [<matplotlib.axes._subplots.AxesSubplot object at 0x1a180c6eb8>,\n",
       "        <matplotlib.axes._subplots.AxesSubplot object at 0x1a18100588>,\n",
       "        <matplotlib.axes._subplots.AxesSubplot object at 0x1a18131c18>,\n",
       "        <matplotlib.axes._subplots.AxesSubplot object at 0x1a182d62e8>,\n",
       "        <matplotlib.axes._subplots.AxesSubplot object at 0x1a18304978>,\n",
       "        <matplotlib.axes._subplots.AxesSubplot object at 0x1a18346048>,\n",
       "        <matplotlib.axes._subplots.AxesSubplot object at 0x1a183746d8>,\n",
       "        <matplotlib.axes._subplots.AxesSubplot object at 0x1a183a3d68>,\n",
       "        <matplotlib.axes._subplots.AxesSubplot object at 0x1a1843c438>,\n",
       "        <matplotlib.axes._subplots.AxesSubplot object at 0x1a1846bac8>,\n",
       "        <matplotlib.axes._subplots.AxesSubplot object at 0x1a184a7198>,\n",
       "        <matplotlib.axes._subplots.AxesSubplot object at 0x1a184d7828>,\n",
       "        <matplotlib.axes._subplots.AxesSubplot object at 0x1a18507eb8>,\n",
       "        <matplotlib.axes._subplots.AxesSubplot object at 0x1a18544588>,\n",
       "        <matplotlib.axes._subplots.AxesSubplot object at 0x1a18573c18>,\n",
       "        <matplotlib.axes._subplots.AxesSubplot object at 0x1a185b12e8>],\n",
       "       [<matplotlib.axes._subplots.AxesSubplot object at 0x1a185e2978>,\n",
       "        <matplotlib.axes._subplots.AxesSubplot object at 0x1a1875d048>,\n",
       "        <matplotlib.axes._subplots.AxesSubplot object at 0x1a1878c6d8>,\n",
       "        <matplotlib.axes._subplots.AxesSubplot object at 0x1a187bed68>,\n",
       "        <matplotlib.axes._subplots.AxesSubplot object at 0x1a187fa438>,\n",
       "        <matplotlib.axes._subplots.AxesSubplot object at 0x1a18828ac8>,\n",
       "        <matplotlib.axes._subplots.AxesSubplot object at 0x1a18866198>,\n",
       "        <matplotlib.axes._subplots.AxesSubplot object at 0x1a18894828>,\n",
       "        <matplotlib.axes._subplots.AxesSubplot object at 0x1a188c4eb8>,\n",
       "        <matplotlib.axes._subplots.AxesSubplot object at 0x1a18902588>,\n",
       "        <matplotlib.axes._subplots.AxesSubplot object at 0x1a18931c18>,\n",
       "        <matplotlib.axes._subplots.AxesSubplot object at 0x1a1896d2e8>,\n",
       "        <matplotlib.axes._subplots.AxesSubplot object at 0x1a1899b978>,\n",
       "        <matplotlib.axes._subplots.AxesSubplot object at 0x1a189dd048>,\n",
       "        <matplotlib.axes._subplots.AxesSubplot object at 0x1a18a096d8>,\n",
       "        <matplotlib.axes._subplots.AxesSubplot object at 0x1a18a38d68>],\n",
       "       [<matplotlib.axes._subplots.AxesSubplot object at 0x1a18a76438>,\n",
       "        <matplotlib.axes._subplots.AxesSubplot object at 0x1a18aa6ac8>,\n",
       "        <matplotlib.axes._subplots.AxesSubplot object at 0x1a18ae3198>,\n",
       "        <matplotlib.axes._subplots.AxesSubplot object at 0x1a18b11828>,\n",
       "        <matplotlib.axes._subplots.AxesSubplot object at 0x1a18b44eb8>,\n",
       "        <matplotlib.axes._subplots.AxesSubplot object at 0x1a18b7e588>,\n",
       "        <matplotlib.axes._subplots.AxesSubplot object at 0x1a18bafc18>,\n",
       "        <matplotlib.axes._subplots.AxesSubplot object at 0x1a18beb2e8>,\n",
       "        <matplotlib.axes._subplots.AxesSubplot object at 0x1a18c1c978>,\n",
       "        <matplotlib.axes._subplots.AxesSubplot object at 0x1a1afbd048>,\n",
       "        <matplotlib.axes._subplots.AxesSubplot object at 0x1a1afec6d8>,\n",
       "        <matplotlib.axes._subplots.AxesSubplot object at 0x1a1b01ed68>,\n",
       "        <matplotlib.axes._subplots.AxesSubplot object at 0x1a1b059438>,\n",
       "        <matplotlib.axes._subplots.AxesSubplot object at 0x1a1b088ac8>,\n",
       "        <matplotlib.axes._subplots.AxesSubplot object at 0x1a1b0c7198>,\n",
       "        <matplotlib.axes._subplots.AxesSubplot object at 0x1a1b0f6828>],\n",
       "       [<matplotlib.axes._subplots.AxesSubplot object at 0x1a1b126eb8>,\n",
       "        <matplotlib.axes._subplots.AxesSubplot object at 0x1a1b162588>,\n",
       "        <matplotlib.axes._subplots.AxesSubplot object at 0x1a1b191c18>,\n",
       "        <matplotlib.axes._subplots.AxesSubplot object at 0x1a1b1ce2e8>,\n",
       "        <matplotlib.axes._subplots.AxesSubplot object at 0x1a1b1fe978>,\n",
       "        <matplotlib.axes._subplots.AxesSubplot object at 0x1a1b23c048>,\n",
       "        <matplotlib.axes._subplots.AxesSubplot object at 0x1a1b26b6d8>,\n",
       "        <matplotlib.axes._subplots.AxesSubplot object at 0x1a1b29bd68>,\n",
       "        <matplotlib.axes._subplots.AxesSubplot object at 0x1a1b2d6438>,\n",
       "        <matplotlib.axes._subplots.AxesSubplot object at 0x1a1b308ac8>,\n",
       "        <matplotlib.axes._subplots.AxesSubplot object at 0x1a1b344198>,\n",
       "        <matplotlib.axes._subplots.AxesSubplot object at 0x1a1b374828>,\n",
       "        <matplotlib.axes._subplots.AxesSubplot object at 0x1a1b3a4eb8>,\n",
       "        <matplotlib.axes._subplots.AxesSubplot object at 0x1a1b3e0588>,\n",
       "        <matplotlib.axes._subplots.AxesSubplot object at 0x1a1b410c18>,\n",
       "        <matplotlib.axes._subplots.AxesSubplot object at 0x1a1b4a82e8>],\n",
       "       [<matplotlib.axes._subplots.AxesSubplot object at 0x1a1b4d8978>,\n",
       "        <matplotlib.axes._subplots.AxesSubplot object at 0x1a1b518048>,\n",
       "        <matplotlib.axes._subplots.AxesSubplot object at 0x1a1b5456d8>,\n",
       "        <matplotlib.axes._subplots.AxesSubplot object at 0x1a1b576d68>,\n",
       "        <matplotlib.axes._subplots.AxesSubplot object at 0x1a1c08b438>,\n",
       "        <matplotlib.axes._subplots.AxesSubplot object at 0x1a1c0baac8>,\n",
       "        <matplotlib.axes._subplots.AxesSubplot object at 0x1a1c0f9198>,\n",
       "        <matplotlib.axes._subplots.AxesSubplot object at 0x1a1c128828>,\n",
       "        <matplotlib.axes._subplots.AxesSubplot object at 0x1a1c15aeb8>,\n",
       "        <matplotlib.axes._subplots.AxesSubplot object at 0x1a1c195588>,\n",
       "        <matplotlib.axes._subplots.AxesSubplot object at 0x1a1c1c5c18>,\n",
       "        <matplotlib.axes._subplots.AxesSubplot object at 0x1a1c2012e8>,\n",
       "        <matplotlib.axes._subplots.AxesSubplot object at 0x1a1c22f978>,\n",
       "        <matplotlib.axes._subplots.AxesSubplot object at 0x1a1c26e048>,\n",
       "        <matplotlib.axes._subplots.AxesSubplot object at 0x1a1c29c6d8>,\n",
       "        <matplotlib.axes._subplots.AxesSubplot object at 0x1a1c2cfd68>],\n",
       "       [<matplotlib.axes._subplots.AxesSubplot object at 0x1a1c30d438>,\n",
       "        <matplotlib.axes._subplots.AxesSubplot object at 0x1a1c33dac8>,\n",
       "        <matplotlib.axes._subplots.AxesSubplot object at 0x1a1c37a198>,\n",
       "        <matplotlib.axes._subplots.AxesSubplot object at 0x1a1ce68828>,\n",
       "        <matplotlib.axes._subplots.AxesSubplot object at 0x1a1ce9aeb8>,\n",
       "        <matplotlib.axes._subplots.AxesSubplot object at 0x1a1ced4588>,\n",
       "        <matplotlib.axes._subplots.AxesSubplot object at 0x1a1cf04c18>,\n",
       "        <matplotlib.axes._subplots.AxesSubplot object at 0x1a1cf402e8>,\n",
       "        <matplotlib.axes._subplots.AxesSubplot object at 0x1a1cf72978>,\n",
       "        <matplotlib.axes._subplots.AxesSubplot object at 0x1a1cfad048>,\n",
       "        <matplotlib.axes._subplots.AxesSubplot object at 0x1a1cfdc6d8>,\n",
       "        <matplotlib.axes._subplots.AxesSubplot object at 0x1a1d00dd68>,\n",
       "        <matplotlib.axes._subplots.AxesSubplot object at 0x1a1d04a438>,\n",
       "        <matplotlib.axes._subplots.AxesSubplot object at 0x1a1d079ac8>,\n",
       "        <matplotlib.axes._subplots.AxesSubplot object at 0x1a1d0b6198>,\n",
       "        <matplotlib.axes._subplots.AxesSubplot object at 0x1a1d0e6828>],\n",
       "       [<matplotlib.axes._subplots.AxesSubplot object at 0x1a1d116eb8>,\n",
       "        <matplotlib.axes._subplots.AxesSubplot object at 0x1a1d152588>,\n",
       "        <matplotlib.axes._subplots.AxesSubplot object at 0x1a1d184c18>,\n",
       "        <matplotlib.axes._subplots.AxesSubplot object at 0x1a1d1c12e8>,\n",
       "        <matplotlib.axes._subplots.AxesSubplot object at 0x1a1d1ee978>,\n",
       "        <matplotlib.axes._subplots.AxesSubplot object at 0x1a1d22b048>,\n",
       "        <matplotlib.axes._subplots.AxesSubplot object at 0x1a1d25c6d8>,\n",
       "        <matplotlib.axes._subplots.AxesSubplot object at 0x1a1d28bd68>,\n",
       "        <matplotlib.axes._subplots.AxesSubplot object at 0x1a1d2c7438>,\n",
       "        <matplotlib.axes._subplots.AxesSubplot object at 0x1a1d2f8ac8>,\n",
       "        <matplotlib.axes._subplots.AxesSubplot object at 0x1a1d336198>,\n",
       "        <matplotlib.axes._subplots.AxesSubplot object at 0x1a1d363828>,\n",
       "        <matplotlib.axes._subplots.AxesSubplot object at 0x1a1d397eb8>,\n",
       "        <matplotlib.axes._subplots.AxesSubplot object at 0x1a1d3d1588>,\n",
       "        <matplotlib.axes._subplots.AxesSubplot object at 0x1a1d402c18>,\n",
       "        <matplotlib.axes._subplots.AxesSubplot object at 0x1a1d43f2e8>],\n",
       "       [<matplotlib.axes._subplots.AxesSubplot object at 0x1a1d46c978>,\n",
       "        <matplotlib.axes._subplots.AxesSubplot object at 0x1a1d4aa048>,\n",
       "        <matplotlib.axes._subplots.AxesSubplot object at 0x1a1d4d86d8>,\n",
       "        <matplotlib.axes._subplots.AxesSubplot object at 0x1a1d50cd68>,\n",
       "        <matplotlib.axes._subplots.AxesSubplot object at 0x1a1d548438>,\n",
       "        <matplotlib.axes._subplots.AxesSubplot object at 0x1a1d577ac8>,\n",
       "        <matplotlib.axes._subplots.AxesSubplot object at 0x1a1d5b5198>,\n",
       "        <matplotlib.axes._subplots.AxesSubplot object at 0x1a1daf1828>,\n",
       "        <matplotlib.axes._subplots.AxesSubplot object at 0x1a1db21eb8>,\n",
       "        <matplotlib.axes._subplots.AxesSubplot object at 0x1a1db5d588>,\n",
       "        <matplotlib.axes._subplots.AxesSubplot object at 0x1a1db8dc18>,\n",
       "        <matplotlib.axes._subplots.AxesSubplot object at 0x1a1dbca2e8>,\n",
       "        <matplotlib.axes._subplots.AxesSubplot object at 0x1a1dbf9978>,\n",
       "        <matplotlib.axes._subplots.AxesSubplot object at 0x1a1dc38048>,\n",
       "        <matplotlib.axes._subplots.AxesSubplot object at 0x1a1dc656d8>,\n",
       "        <matplotlib.axes._subplots.AxesSubplot object at 0x1a1dc96d68>],\n",
       "       [<matplotlib.axes._subplots.AxesSubplot object at 0x1a1dcd1438>,\n",
       "        <matplotlib.axes._subplots.AxesSubplot object at 0x1a1dd01ac8>,\n",
       "        <matplotlib.axes._subplots.AxesSubplot object at 0x1a1dd98198>,\n",
       "        <matplotlib.axes._subplots.AxesSubplot object at 0x1a1ddc7828>,\n",
       "        <matplotlib.axes._subplots.AxesSubplot object at 0x1a1ddf9eb8>,\n",
       "        <matplotlib.axes._subplots.AxesSubplot object at 0x1a1de34588>,\n",
       "        <matplotlib.axes._subplots.AxesSubplot object at 0x1a1de65c18>,\n",
       "        <matplotlib.axes._subplots.AxesSubplot object at 0x1a1dea22e8>,\n",
       "        <matplotlib.axes._subplots.AxesSubplot object at 0x1a1ded1978>,\n",
       "        <matplotlib.axes._subplots.AxesSubplot object at 0x1a1df0f048>,\n",
       "        <matplotlib.axes._subplots.AxesSubplot object at 0x1a1df3e6d8>,\n",
       "        <matplotlib.axes._subplots.AxesSubplot object at 0x1a1df6ed68>,\n",
       "        <matplotlib.axes._subplots.AxesSubplot object at 0x1a1dfa8438>,\n",
       "        <matplotlib.axes._subplots.AxesSubplot object at 0x1a1dfdaac8>,\n",
       "        <matplotlib.axes._subplots.AxesSubplot object at 0x1a1e00c860>,\n",
       "        <matplotlib.axes._subplots.AxesSubplot object at 0x1a1e045828>],\n",
       "       [<matplotlib.axes._subplots.AxesSubplot object at 0x1a1e078eb8>,\n",
       "        <matplotlib.axes._subplots.AxesSubplot object at 0x1a1e0b2588>,\n",
       "        <matplotlib.axes._subplots.AxesSubplot object at 0x1a1e0e2c18>,\n",
       "        <matplotlib.axes._subplots.AxesSubplot object at 0x1a1e11f2e8>,\n",
       "        <matplotlib.axes._subplots.AxesSubplot object at 0x1a1e150978>,\n",
       "        <matplotlib.axes._subplots.AxesSubplot object at 0x1a1e18d048>,\n",
       "        <matplotlib.axes._subplots.AxesSubplot object at 0x1a1e1bc6d8>,\n",
       "        <matplotlib.axes._subplots.AxesSubplot object at 0x1a1e1efd68>,\n",
       "        <matplotlib.axes._subplots.AxesSubplot object at 0x1a1e229438>,\n",
       "        <matplotlib.axes._subplots.AxesSubplot object at 0x1a1e258ac8>,\n",
       "        <matplotlib.axes._subplots.AxesSubplot object at 0x1a1e296198>,\n",
       "        <matplotlib.axes._subplots.AxesSubplot object at 0x1a1e2c5828>,\n",
       "        <matplotlib.axes._subplots.AxesSubplot object at 0x1a1e2f5eb8>,\n",
       "        <matplotlib.axes._subplots.AxesSubplot object at 0x1a1e331588>,\n",
       "        <matplotlib.axes._subplots.AxesSubplot object at 0x1a1e362c18>,\n",
       "        <matplotlib.axes._subplots.AxesSubplot object at 0x1a1e39f2e8>],\n",
       "       [<matplotlib.axes._subplots.AxesSubplot object at 0x1a1e3cc978>,\n",
       "        <matplotlib.axes._subplots.AxesSubplot object at 0x1a1e40b048>,\n",
       "        <matplotlib.axes._subplots.AxesSubplot object at 0x1a1e43b6d8>,\n",
       "        <matplotlib.axes._subplots.AxesSubplot object at 0x1a1e46cd68>,\n",
       "        <matplotlib.axes._subplots.AxesSubplot object at 0x1a1e4e8438>,\n",
       "        <matplotlib.axes._subplots.AxesSubplot object at 0x1a1e519ac8>,\n",
       "        <matplotlib.axes._subplots.AxesSubplot object at 0x1a1e555198>,\n",
       "        <matplotlib.axes._subplots.AxesSubplot object at 0x1a1e584828>,\n",
       "        <matplotlib.axes._subplots.AxesSubplot object at 0x1a1e5b6eb8>,\n",
       "        <matplotlib.axes._subplots.AxesSubplot object at 0x1a1e5f1588>,\n",
       "        <matplotlib.axes._subplots.AxesSubplot object at 0x1a1e621c18>,\n",
       "        <matplotlib.axes._subplots.AxesSubplot object at 0x1a1e65e2e8>,\n",
       "        <matplotlib.axes._subplots.AxesSubplot object at 0x1a1e68f978>,\n",
       "        <matplotlib.axes._subplots.AxesSubplot object at 0x1a1e6cc048>,\n",
       "        <matplotlib.axes._subplots.AxesSubplot object at 0x1a1e6fa6d8>,\n",
       "        <matplotlib.axes._subplots.AxesSubplot object at 0x1a1e72bd68>],\n",
       "       [<matplotlib.axes._subplots.AxesSubplot object at 0x1a1e768438>,\n",
       "        <matplotlib.axes._subplots.AxesSubplot object at 0x1a1e798ac8>,\n",
       "        <matplotlib.axes._subplots.AxesSubplot object at 0x1a1e814198>,\n",
       "        <matplotlib.axes._subplots.AxesSubplot object at 0x1a1e842828>,\n",
       "        <matplotlib.axes._subplots.AxesSubplot object at 0x1a1e876eb8>,\n",
       "        <matplotlib.axes._subplots.AxesSubplot object at 0x1a1e8b0588>,\n",
       "        <matplotlib.axes._subplots.AxesSubplot object at 0x1a1e8e0c18>,\n",
       "        <matplotlib.axes._subplots.AxesSubplot object at 0x1a1e91e2e8>,\n",
       "        <matplotlib.axes._subplots.AxesSubplot object at 0x1a1e94e978>,\n",
       "        <matplotlib.axes._subplots.AxesSubplot object at 0x1a1e989048>,\n",
       "        <matplotlib.axes._subplots.AxesSubplot object at 0x1a1e9b96d8>,\n",
       "        <matplotlib.axes._subplots.AxesSubplot object at 0x1a1e9edd68>,\n",
       "        <matplotlib.axes._subplots.AxesSubplot object at 0x1a1ea25438>,\n",
       "        <matplotlib.axes._subplots.AxesSubplot object at 0x1a1ea57ac8>,\n",
       "        <matplotlib.axes._subplots.AxesSubplot object at 0x1a1ea94198>,\n",
       "        <matplotlib.axes._subplots.AxesSubplot object at 0x1a1eac3828>],\n",
       "       [<matplotlib.axes._subplots.AxesSubplot object at 0x1a1eaf2eb8>,\n",
       "        <matplotlib.axes._subplots.AxesSubplot object at 0x1a1ec2e588>,\n",
       "        <matplotlib.axes._subplots.AxesSubplot object at 0x1a1ec60c18>,\n",
       "        <matplotlib.axes._subplots.AxesSubplot object at 0x1a1ec9a2e8>,\n",
       "        <matplotlib.axes._subplots.AxesSubplot object at 0x1a1eccb978>,\n",
       "        <matplotlib.axes._subplots.AxesSubplot object at 0x1a1ed0b048>,\n",
       "        <matplotlib.axes._subplots.AxesSubplot object at 0x1a1ed3a6d8>,\n",
       "        <matplotlib.axes._subplots.AxesSubplot object at 0x1a1ed69d68>,\n",
       "        <matplotlib.axes._subplots.AxesSubplot object at 0x1a1eda7438>,\n",
       "        <matplotlib.axes._subplots.AxesSubplot object at 0x1a1edd6ac8>,\n",
       "        <matplotlib.axes._subplots.AxesSubplot object at 0x1a1ee11198>,\n",
       "        <matplotlib.axes._subplots.AxesSubplot object at 0x1a1ee40828>,\n",
       "        <matplotlib.axes._subplots.AxesSubplot object at 0x1a1ee73eb8>,\n",
       "        <matplotlib.axes._subplots.AxesSubplot object at 0x1a1eeae588>,\n",
       "        <matplotlib.axes._subplots.AxesSubplot object at 0x1a1eeddc18>,\n",
       "        <matplotlib.axes._subplots.AxesSubplot object at 0x1a1ef1b2e8>],\n",
       "       [<matplotlib.axes._subplots.AxesSubplot object at 0x1a1ef4b978>,\n",
       "        <matplotlib.axes._subplots.AxesSubplot object at 0x1a1ef89048>,\n",
       "        <matplotlib.axes._subplots.AxesSubplot object at 0x1a1efb66d8>,\n",
       "        <matplotlib.axes._subplots.AxesSubplot object at 0x1a1efe9d68>,\n",
       "        <matplotlib.axes._subplots.AxesSubplot object at 0x1a1f023438>,\n",
       "        <matplotlib.axes._subplots.AxesSubplot object at 0x1a1f053ac8>,\n",
       "        <matplotlib.axes._subplots.AxesSubplot object at 0x1a1f093198>,\n",
       "        <matplotlib.axes._subplots.AxesSubplot object at 0x1a1f0c2828>,\n",
       "        <matplotlib.axes._subplots.AxesSubplot object at 0x1a1f0f1eb8>,\n",
       "        <matplotlib.axes._subplots.AxesSubplot object at 0x1a1f12b588>,\n",
       "        <matplotlib.axes._subplots.AxesSubplot object at 0x1a1f15ec18>,\n",
       "        <matplotlib.axes._subplots.AxesSubplot object at 0x1a1f1992e8>,\n",
       "        <matplotlib.axes._subplots.AxesSubplot object at 0x1a1f1c8978>,\n",
       "        <matplotlib.axes._subplots.AxesSubplot object at 0x1a1f206048>,\n",
       "        <matplotlib.axes._subplots.AxesSubplot object at 0x1a1f2366d8>,\n",
       "        <matplotlib.axes._subplots.AxesSubplot object at 0x1a1f265d68>],\n",
       "       [<matplotlib.axes._subplots.AxesSubplot object at 0x1a1f2a1438>,\n",
       "        <matplotlib.axes._subplots.AxesSubplot object at 0x1a1f2d3ac8>,\n",
       "        <matplotlib.axes._subplots.AxesSubplot object at 0x1a1f34f198>,\n",
       "        <matplotlib.axes._subplots.AxesSubplot object at 0x1a1f37e828>,\n",
       "        <matplotlib.axes._subplots.AxesSubplot object at 0x1a1f3b1eb8>,\n",
       "        <matplotlib.axes._subplots.AxesSubplot object at 0x1a1f3ec588>,\n",
       "        <matplotlib.axes._subplots.AxesSubplot object at 0x1a1f41bc18>,\n",
       "        <matplotlib.axes._subplots.AxesSubplot object at 0x1a1f4582e8>,\n",
       "        <matplotlib.axes._subplots.AxesSubplot object at 0x1a1f489978>,\n",
       "        <matplotlib.axes._subplots.AxesSubplot object at 0x1a1f4c6048>,\n",
       "        <matplotlib.axes._subplots.AxesSubplot object at 0x1a1f4f36d8>,\n",
       "        <matplotlib.axes._subplots.AxesSubplot object at 0x1a1f526d68>,\n",
       "        <matplotlib.axes._subplots.AxesSubplot object at 0x1a1f55f748>,\n",
       "        <matplotlib.axes._subplots.AxesSubplot object at 0x1a1f59a128>,\n",
       "        <matplotlib.axes._subplots.AxesSubplot object at 0x1a1f5c8ac8>,\n",
       "        <matplotlib.axes._subplots.AxesSubplot object at 0x1a1f6034a8>]],\n",
       "      dtype=object)"
      ]
     },
     "execution_count": 48,
     "metadata": {},
     "output_type": "execute_result"
    },
    {
     "data": {
      "image/png": "[encoded data removed]",
      "text/plain": [
       "<Figure size 720x720 with 272 Axes>"
      ]
     },
     "metadata": {},
     "output_type": "display_data"
    }
   ],
   "source": [
    "#对每个世纪显示直方图\n",
    "climate_sub_us['AverageTemperature'].hist(by=climate_sub_us['century'], \n",
    "                                          sharex=True, sharey=True, \n",
    "                                          figsize=(10, 10), \n",
    "                                          bins=20)"
   ]
  },
  {
   "cell_type": "code",
   "execution_count": 49,
   "metadata": {},
   "outputs": [
    {
     "data": {
      "text/plain": [
       "<matplotlib.axes._subplots.AxesSubplot at 0x1a217f1f60>"
      ]
     },
     "execution_count": 49,
     "metadata": {},
     "output_type": "execute_result"
    },
    {
     "data": {
      "image/png": "[encoded data removed]",
      "text/plain": [
       "<Figure size 432x288 with 1 Axes>"
      ]
     },
     "metadata": {},
     "output_type": "display_data"
    }
   ],
   "source": [
    "climate_sub_us.groupby('century')['AverageTemperature'].mean().plot(kind='line')"
   ]
  },
  {
   "cell_type": "code",
   "execution_count": null,
   "metadata": {},
   "outputs": [],
   "source": []
  }
 ],
 "metadata": {
  "kernelspec": {
   "display_name": "Python 3",
   "language": "python",
   "name": "python3"
  },
  "language_info": {
   "codemirror_mode": {
    "name": "ipython",
    "version": 3
   },
   "file_extension": ".py",
   "mimetype": "text/x-python",
   "name": "python",
   "nbconvert_exporter": "python",
   "pygments_lexer": "ipython3",
   "version": "3.7.3"
  }
 },
 "nbformat": 4,
 "nbformat_minor": 1
}
