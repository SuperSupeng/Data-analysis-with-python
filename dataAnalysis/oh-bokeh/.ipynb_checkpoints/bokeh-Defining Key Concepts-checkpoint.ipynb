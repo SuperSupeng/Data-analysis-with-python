{
 "cells": [
  {
   "cell_type": "markdown",
   "metadata": {},
   "source": [
    "# 1. Glossary\n",
    "In order to make the best use of this User Guide, it is important to have context for some high level concepts and terms. Here is a small glossary of some of the most important concepts in Bokeh.\n",
    "\n",
    "为了充分利用本用户指南，有一些高级概念和术语的上下文非常重要。 以下是 Bokeh 一些最重要概念的术语表。"
   ]
  },
  {
   "cell_type": "markdown",
   "metadata": {},
   "source": [
    "## 1.1 Application\n",
    "A Bokeh application is a recipe for generating Bokeh documents. Typically this is Python code run by a Bokeh server when new sessions are created.\n",
    "\n",
    "Bokeh 应用程序是生成 Bokeh 文档的诀窍。 通常这是在创建新会话时由 Bokeh 服务器运行的 Python 代码。\n",
    "\n",
    "## 1.2 BokehJS\n",
    "The JavaScript client library that actually renders the visuals and handles the UI interactions for Bokeh plots and widgets in the browser. Typically, users will not have to think about this aspect of Bokeh much (“We write the JavaScript, so you don’t have to!”) but it is good to have basic knowledge of this dichotomy. For full details, see the `BokehJS` chapter of the Developers.\n",
    "\n",
    "这个JavaScript客户端库实际上呈现视觉效果，并处理浏览器中Bokeh plots和小部件的UI交互。 通常情况下，用户不必过多考虑Bokeh的这一方面(“我们编写JavaScript，所以您不必这样做! ”) 但是对这种知识有基本的了解是很好的。 有关详细信息，请参阅`BokehJS`的开发者章节。\n",
    "\n",
    "## 1.3 Documents\n",
    "An organizing data structure for Bokeh applications. Documents contain all the Bokeh Models and data needed to render an interactive visualization or application in the browser.\n",
    "\n",
    "一种用于Bokeh应用程序的组织数据结构。 文档包含在浏览器中呈现交互式可视化或应用程序所需的所有Bokeh模型和数据。\n",
    "\n",
    "## 1.4 Embedding\n",
    "Various methods of including Bokeh plots and widgets into web apps and pages, or the IPython notebook. See `Embedding Bokeh Content` for more details.\n",
    "\n",
    "各种方法，包括散景图和小工具到网络应用程序和网页，或IPython笔记本电脑。有关更多细节，请参见`Embedding Bokeh Content`。\n",
    "\n",
    "## 1.5 Glyphs\n",
    "The basic visual building blocks of Bokeh plots, e.g. lines, rectangles, squares, wedges, patches, etc. The `bokeh.plotting` interface provides a convenient way to create plots centered around glyphs. See `Plotting with Basic Glyphs` for more information.\n",
    "\n",
    "基本视觉效果由一些模块构成，例如直线、长方形、正方形、楔形、斑块等。 `bokeh.plotting`界面提供了一种方便的方法来创建以glyphs为中心的绘图。 有关更多信息，请参见`Plotting with Basic Glyphs`。\n",
    "\n",
    "## 1.6 Models\n",
    "The lowest-level objects that comprise Bokeh “scenegraphs”. These live in the bokeh.models interface. Most users will not use this level of interface to assemble plots directly. However, ultimately all Bokeh plots consist of collections of models, so it is important to understand them enough to configure their attributes and properties. See Styling Visual Attributes for more information.\n",
    "\n",
    "组成散景图的最底层对象。 它们存在于 bokeh.models 界面中。 大多数用户不会使用这个级别的界面来直接组装图表。 然而，最终所有 Bokeh 绘图都是由模型集合组成的，因此充分理解它们以配置它们的属性和属性非常重要。 有关更多信息，请参见样式化可视化属性。\n",
    "\n",
    "## 1.7 Server\n",
    "The Bokeh server is an optional component that can be used for sharing and publishing Bokeh plots and apps, for handling streaming of large data sets, or for enabling sophisticated user interactions based off of widgets and selections. See `Running a Bokeh Server` for more explanation.\n",
    "\n",
    "服务器是一个可选组件，可用于分享和发布Bokeh plots和应用程序，用于处理大型数据集的流，或用于启用基于小部件和选择的复杂用户交互。 更多解释请参见`Running a Bokeh Server`。\n",
    "\n",
    "## 1.8 Widgets\n",
    "User interface elements outside of a Bokeh plot such as sliders, drop down menus, buttons, etc. Events and updates from widgets can inform additional computations, or cause Bokeh plots to update. Widgets can be used in both standalone applications or with the Bokeh server. For examples and information, see Making Interactions.\n",
    "\n",
    "Bokeh plot之外的用户界面元素，如滑块、下拉菜单、按钮等。 来自小部件的事件和更新可以通知额外的计算，或者导致Bokeh plots更新。 小部件可以在独立应用程序中使用，也可以在Bokeh服务器中使用。有关示例和信息，请参见进行互动。\n",
    "\n",
    "---"
   ]
  },
  {
   "cell_type": "markdown",
   "metadata": {},
   "source": [
    "# 2. Output Methods\n",
    "As we will see demonstrated frequently throughout the User Guide, there are various ways to generate output for Bokeh documents. The most common for interactive usage are:\n",
    "\n",
    "正如我们将在用户指南中经常看到的那样，有多种方法可以为 Bokeh 文档生成输出。 最常见的交互式应用是:\n",
    "\n",
    "output_file\n",
    "For generating simple standalone HTML documents for Bokeh visualizations.\n",
    "用于为 Bokeh 可视化生成简单的独立 HTML 文档。\n",
    "\n",
    "output_notebook\n",
    "For displaying Bokeh visualizations inline in Jupyter/Zeppelin notebook cells.\n",
    "\n",
    "用于在 jupyter / zeppelin 笔记本电脑中显示 Bokeh 可视化效果。\n",
    "\n",
    "These functions are most often used together with the show or save functions. Scripts that output with these typically look something like:\n",
    "\n",
    "这些函数通常与显示或保存函数一起使用。 使用这些代码输出的脚本通常类似于:\n",
    "\n"
   ]
  }
 ],
 "metadata": {
  "kernelspec": {
   "display_name": "Python 3",
   "language": "python",
   "name": "python3"
  },
  "language_info": {
   "codemirror_mode": {
    "name": "ipython",
    "version": 3
   },
   "file_extension": ".py",
   "mimetype": "text/x-python",
   "name": "python",
   "nbconvert_exporter": "python",
   "pygments_lexer": "ipython3",
   "version": "3.7.3"
  }
 },
 "nbformat": 4,
 "nbformat_minor": 2
}
